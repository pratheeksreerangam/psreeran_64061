{
  "nbformat": 4,
  "nbformat_minor": 0,
  "metadata": {
    "colab": {
      "provenance": []
    },
    "kernelspec": {
      "name": "python3",
      "display_name": "Python 3"
    },
    "language_info": {
      "name": "python"
    }
  },
  "cells": [
    {
      "cell_type": "markdown",
      "source": [
        "**Loading the IMDB dataset**"
      ],
      "metadata": {
        "id": "Vfoc0Tga9WjD"
      }
    },
    {
      "cell_type": "code",
      "source": [
        "# importing libraries\n",
        "\n",
        "import matplotlib\n",
        "import matplotlib.pyplot as plt\n",
        "import numpy as np\n",
        "from keras import models\n",
        "from keras import layers"
      ],
      "metadata": {
        "id": "C7dKPXtg9aAf"
      },
      "execution_count": 5,
      "outputs": []
    },
    {
      "cell_type": "markdown",
      "source": [
        "Divide the dataset into training and test sets.\n"
      ],
      "metadata": {
        "id": "GCxqF1PU-DMp"
      }
    },
    {
      "cell_type": "markdown",
      "source": [
        "Load the data, keeping only 10,000 of the most frequently occuring words\n"
      ],
      "metadata": {
        "id": "E3EGVFt2z7EV"
      }
    },
    {
      "cell_type": "code",
      "source": [
        "from tensorflow.keras.datasets import imdb\n",
        "(train_data, train_labels), (test_data, test_labels) = imdb.load_data(\n",
        "    num_words=10000)"
      ],
      "metadata": {
        "id": "NrIyU3HmnvIt"
      },
      "execution_count": 6,
      "outputs": []
    },
    {
      "cell_type": "markdown",
      "source": [
        "Printing the first review from the training data"
      ],
      "metadata": {
        "id": "HovsWOrs-Rft"
      }
    },
    {
      "cell_type": "code",
      "source": [
        "train_data[0]\n"
      ],
      "metadata": {
        "colab": {
          "base_uri": "https://localhost:8080/"
        },
        "id": "Pl9bxzCWn8zf",
        "outputId": "6fc79cc8-a098-4051-938a-64a692427aa7"
      },
      "execution_count": 7,
      "outputs": [
        {
          "output_type": "execute_result",
          "data": {
            "text/plain": [
              "[1,\n",
              " 14,\n",
              " 22,\n",
              " 16,\n",
              " 43,\n",
              " 530,\n",
              " 973,\n",
              " 1622,\n",
              " 1385,\n",
              " 65,\n",
              " 458,\n",
              " 4468,\n",
              " 66,\n",
              " 3941,\n",
              " 4,\n",
              " 173,\n",
              " 36,\n",
              " 256,\n",
              " 5,\n",
              " 25,\n",
              " 100,\n",
              " 43,\n",
              " 838,\n",
              " 112,\n",
              " 50,\n",
              " 670,\n",
              " 2,\n",
              " 9,\n",
              " 35,\n",
              " 480,\n",
              " 284,\n",
              " 5,\n",
              " 150,\n",
              " 4,\n",
              " 172,\n",
              " 112,\n",
              " 167,\n",
              " 2,\n",
              " 336,\n",
              " 385,\n",
              " 39,\n",
              " 4,\n",
              " 172,\n",
              " 4536,\n",
              " 1111,\n",
              " 17,\n",
              " 546,\n",
              " 38,\n",
              " 13,\n",
              " 447,\n",
              " 4,\n",
              " 192,\n",
              " 50,\n",
              " 16,\n",
              " 6,\n",
              " 147,\n",
              " 2025,\n",
              " 19,\n",
              " 14,\n",
              " 22,\n",
              " 4,\n",
              " 1920,\n",
              " 4613,\n",
              " 469,\n",
              " 4,\n",
              " 22,\n",
              " 71,\n",
              " 87,\n",
              " 12,\n",
              " 16,\n",
              " 43,\n",
              " 530,\n",
              " 38,\n",
              " 76,\n",
              " 15,\n",
              " 13,\n",
              " 1247,\n",
              " 4,\n",
              " 22,\n",
              " 17,\n",
              " 515,\n",
              " 17,\n",
              " 12,\n",
              " 16,\n",
              " 626,\n",
              " 18,\n",
              " 2,\n",
              " 5,\n",
              " 62,\n",
              " 386,\n",
              " 12,\n",
              " 8,\n",
              " 316,\n",
              " 8,\n",
              " 106,\n",
              " 5,\n",
              " 4,\n",
              " 2223,\n",
              " 5244,\n",
              " 16,\n",
              " 480,\n",
              " 66,\n",
              " 3785,\n",
              " 33,\n",
              " 4,\n",
              " 130,\n",
              " 12,\n",
              " 16,\n",
              " 38,\n",
              " 619,\n",
              " 5,\n",
              " 25,\n",
              " 124,\n",
              " 51,\n",
              " 36,\n",
              " 135,\n",
              " 48,\n",
              " 25,\n",
              " 1415,\n",
              " 33,\n",
              " 6,\n",
              " 22,\n",
              " 12,\n",
              " 215,\n",
              " 28,\n",
              " 77,\n",
              " 52,\n",
              " 5,\n",
              " 14,\n",
              " 407,\n",
              " 16,\n",
              " 82,\n",
              " 2,\n",
              " 8,\n",
              " 4,\n",
              " 107,\n",
              " 117,\n",
              " 5952,\n",
              " 15,\n",
              " 256,\n",
              " 4,\n",
              " 2,\n",
              " 7,\n",
              " 3766,\n",
              " 5,\n",
              " 723,\n",
              " 36,\n",
              " 71,\n",
              " 43,\n",
              " 530,\n",
              " 476,\n",
              " 26,\n",
              " 400,\n",
              " 317,\n",
              " 46,\n",
              " 7,\n",
              " 4,\n",
              " 2,\n",
              " 1029,\n",
              " 13,\n",
              " 104,\n",
              " 88,\n",
              " 4,\n",
              " 381,\n",
              " 15,\n",
              " 297,\n",
              " 98,\n",
              " 32,\n",
              " 2071,\n",
              " 56,\n",
              " 26,\n",
              " 141,\n",
              " 6,\n",
              " 194,\n",
              " 7486,\n",
              " 18,\n",
              " 4,\n",
              " 226,\n",
              " 22,\n",
              " 21,\n",
              " 134,\n",
              " 476,\n",
              " 26,\n",
              " 480,\n",
              " 5,\n",
              " 144,\n",
              " 30,\n",
              " 5535,\n",
              " 18,\n",
              " 51,\n",
              " 36,\n",
              " 28,\n",
              " 224,\n",
              " 92,\n",
              " 25,\n",
              " 104,\n",
              " 4,\n",
              " 226,\n",
              " 65,\n",
              " 16,\n",
              " 38,\n",
              " 1334,\n",
              " 88,\n",
              " 12,\n",
              " 16,\n",
              " 283,\n",
              " 5,\n",
              " 16,\n",
              " 4472,\n",
              " 113,\n",
              " 103,\n",
              " 32,\n",
              " 15,\n",
              " 16,\n",
              " 5345,\n",
              " 19,\n",
              " 178,\n",
              " 32]"
            ]
          },
          "metadata": {},
          "execution_count": 7
        }
      ]
    },
    {
      "cell_type": "code",
      "source": [
        "# Check the first label\n",
        "\n",
        "train_labels[0]"
      ],
      "metadata": {
        "colab": {
          "base_uri": "https://localhost:8080/"
        },
        "id": "82kRgNZqqX-7",
        "outputId": "566cac5c-93b4-4da2-aeb8-ffd362cbc706"
      },
      "execution_count": 8,
      "outputs": [
        {
          "output_type": "execute_result",
          "data": {
            "text/plain": [
              "1"
            ]
          },
          "metadata": {},
          "execution_count": 8
        }
      ]
    },
    {
      "cell_type": "code",
      "source": [
        "# Only 10000 frequent words are considered and therefore the word index should not exceed the frequent word count.\n",
        "\n",
        "# Find the maximum of all the maximum indexes\n",
        "max([max(sequence) for sequence in train_data])"
      ],
      "metadata": {
        "colab": {
          "base_uri": "https://localhost:8080/"
        },
        "id": "2iAurRT9rJjT",
        "outputId": "6e78fb8a-34fa-43fb-c39d-172980e4ab0b"
      },
      "execution_count": 9,
      "outputs": [
        {
          "output_type": "execute_result",
          "data": {
            "text/plain": [
              "9999"
            ]
          },
          "metadata": {},
          "execution_count": 9
        }
      ]
    },
    {
      "cell_type": "markdown",
      "source": [
        "Decoding movie reviews back to text"
      ],
      "metadata": {
        "id": "GZiX34HVrbnG"
      }
    },
    {
      "cell_type": "code",
      "source": [
        "# Let's decode the review\n",
        "\n",
        "# step 1: Load the mappings of the dictionary from the word to integer index\n",
        "word_index = imdb.get_word_index()\n",
        "\n",
        "# step 2: reverse word index to integer mapping \n",
        "reverse_word_index = dict(\n",
        "    [(value, key) for (key, value) in word_index.items()])\n",
        "\n",
        "# step 3: Decode the review, mapping integer to words\n",
        "decoded_review = \" \".join(\n",
        "    [reverse_word_index.get(i - 3, \"?\") for i in train_data[0]])\n",
        "decoded_review"
      ],
      "metadata": {
        "colab": {
          "base_uri": "https://localhost:8080/",
          "height": 123
        },
        "id": "d-CoIR3Prv-p",
        "outputId": "b1a0de83-4d63-4e77-8d63-702c1dbbf2af"
      },
      "execution_count": 10,
      "outputs": [
        {
          "output_type": "execute_result",
          "data": {
            "text/plain": [
              "\"? this film was just brilliant casting location scenery story direction everyone's really suited the part they played and you could just imagine being there robert ? is an amazing actor and now the same being director ? father came from the same scottish island as myself so i loved the fact there was a real connection with this film the witty remarks throughout the film were great it was just brilliant so much that i bought the film as soon as it was released for ? and would recommend it to everyone to watch and the fly fishing was amazing really cried at the end it was so sad and you know what they say if you cry at a film it must have been good and this definitely was also ? to the two little boy's that played the ? of norman and paul they were just brilliant children are often left out of the ? list i think because the stars that play them all grown up are such a big profile for the whole film but these children are amazing and should be praised for what they have done don't you think the whole story was so lovely because it was true and was someone's life after all that was shared with us all\""
            ],
            "application/vnd.google.colaboratory.intrinsic+json": {
              "type": "string"
            }
          },
          "metadata": {},
          "execution_count": 10
        }
      ]
    },
    {
      "cell_type": "code",
      "source": [
        "len(reverse_word_index)"
      ],
      "metadata": {
        "id": "Y0ex6yYeXEWq",
        "colab": {
          "base_uri": "https://localhost:8080/"
        },
        "outputId": "f22109ac-db45-42d7-d476-16faf895ea4d"
      },
      "execution_count": 11,
      "outputs": [
        {
          "output_type": "execute_result",
          "data": {
            "text/plain": [
              "88584"
            ]
          },
          "metadata": {},
          "execution_count": 11
        }
      ]
    },
    {
      "cell_type": "markdown",
      "source": [
        "Preparing the data"
      ],
      "metadata": {
        "id": "3WaFxKpKsmAW"
      }
    },
    {
      "cell_type": "code",
      "source": [
        "import numpy as np\n",
        "def vectorize_sequences(sequences, dimension=10000):\n",
        "    results = np.zeros((len(sequences), dimension))                   \n",
        "    for i, sequence in enumerate(sequences):\n",
        "        for j in sequence:\n",
        "            results[i, j] = 1                                 \n",
        "    return results\n",
        "\n",
        "# Vectorizing the train data\n",
        "x_train = vectorize_sequences(train_data)\n",
        "# Vectorizing the test data\n",
        "x_test = vectorize_sequences(test_data)"
      ],
      "metadata": {
        "id": "Q4XnRZ_UsxiU"
      },
      "execution_count": 12,
      "outputs": []
    },
    {
      "cell_type": "code",
      "source": [
        "x_train[0]"
      ],
      "metadata": {
        "colab": {
          "base_uri": "https://localhost:8080/"
        },
        "id": "cu7o3jV6s7mp",
        "outputId": "701d052f-7fc7-40fc-8e6b-c4e9aaf8f841"
      },
      "execution_count": 13,
      "outputs": [
        {
          "output_type": "execute_result",
          "data": {
            "text/plain": [
              "array([0., 1., 1., ..., 0., 0., 0.])"
            ]
          },
          "metadata": {},
          "execution_count": 13
        }
      ]
    },
    {
      "cell_type": "code",
      "source": [
        "x_train.shape"
      ],
      "metadata": {
        "id": "k69JI_2sYyFT",
        "colab": {
          "base_uri": "https://localhost:8080/"
        },
        "outputId": "86fccbb1-d7c7-4922-b667-787b897e50cb"
      },
      "execution_count": 14,
      "outputs": [
        {
          "output_type": "execute_result",
          "data": {
            "text/plain": [
              "(25000, 10000)"
            ]
          },
          "metadata": {},
          "execution_count": 14
        }
      ]
    },
    {
      "cell_type": "code",
      "source": [
        "y_train = np.asarray(train_labels).astype(\"float32\")\n",
        "y_test = np.asarray(test_labels).astype(\"float32\")"
      ],
      "metadata": {
        "id": "c_O7r3YRtAnv"
      },
      "execution_count": 15,
      "outputs": []
    },
    {
      "cell_type": "markdown",
      "source": [
        "**Building the model**\n",
        "\n",
        "Our input dataset consisted of vectors which must be converted to encoder labels (0s and 1s). This is one of the simplest setups, and a basic stack of fully connected Dense layers with relu activation operates well."
      ],
      "metadata": {
        "id": "TTxXDDsctHCz"
      }
    },
    {
      "cell_type": "code",
      "source": [
        "from tensorflow import keras\n",
        "from tensorflow.keras import layers\n",
        "\n",
        "model = keras.Sequential([\n",
        "    layers.Dense(16, activation=\"relu\"),\n",
        "    layers.Dense(16, activation=\"relu\"),\n",
        "    layers.Dense(1, activation=\"sigmoid\")\n",
        "])"
      ],
      "metadata": {
        "id": "H9_nfT8AtJNG"
      },
      "execution_count": 16,
      "outputs": []
    },
    {
      "cell_type": "code",
      "source": [
        "\n",
        "model.compile(optimizer=\"rmsprop\",\n",
        "              loss=\"binary_crossentropy\",\n",
        "              metrics=[\"accuracy\"])"
      ],
      "metadata": {
        "id": "rc6kIc1rtbrD"
      },
      "execution_count": 17,
      "outputs": []
    },
    {
      "cell_type": "code",
      "source": [
        "x_val = x_train[:10000]\n",
        "partial_x_train = x_train[10000:]\n",
        "y_val = y_train[:10000]\n",
        "partial_y_train = y_train[10000:]"
      ],
      "metadata": {
        "id": "G3Fgqot4tnko"
      },
      "execution_count": 18,
      "outputs": []
    },
    {
      "cell_type": "code",
      "source": [
        "history = model.fit(partial_x_train,\n",
        "                    partial_y_train,\n",
        "                    epochs=20,\n",
        "                    batch_size=512,\n",
        "                    validation_data=(x_val, y_val))"
      ],
      "metadata": {
        "colab": {
          "base_uri": "https://localhost:8080/"
        },
        "id": "lvymfs3CtwwI",
        "outputId": "f69791e1-9203-46ba-c586-9c94372a4908"
      },
      "execution_count": 19,
      "outputs": [
        {
          "output_type": "stream",
          "name": "stdout",
          "text": [
            "Epoch 1/20\n",
            "30/30 [==============================] - 4s 76ms/step - loss: 0.5511 - accuracy: 0.7787 - val_loss: 0.4334 - val_accuracy: 0.8399\n",
            "Epoch 2/20\n",
            "30/30 [==============================] - 2s 55ms/step - loss: 0.3492 - accuracy: 0.8873 - val_loss: 0.3286 - val_accuracy: 0.8809\n",
            "Epoch 3/20\n",
            "30/30 [==============================] - 1s 43ms/step - loss: 0.2603 - accuracy: 0.9140 - val_loss: 0.3054 - val_accuracy: 0.8766\n",
            "Epoch 4/20\n",
            "30/30 [==============================] - 1s 44ms/step - loss: 0.2078 - accuracy: 0.9328 - val_loss: 0.2780 - val_accuracy: 0.8880\n",
            "Epoch 5/20\n",
            "30/30 [==============================] - 1s 41ms/step - loss: 0.1776 - accuracy: 0.9419 - val_loss: 0.2754 - val_accuracy: 0.8887\n",
            "Epoch 6/20\n",
            "30/30 [==============================] - 1s 50ms/step - loss: 0.1485 - accuracy: 0.9525 - val_loss: 0.2809 - val_accuracy: 0.8873\n",
            "Epoch 7/20\n",
            "30/30 [==============================] - 2s 64ms/step - loss: 0.1285 - accuracy: 0.9587 - val_loss: 0.3026 - val_accuracy: 0.8820\n",
            "Epoch 8/20\n",
            "30/30 [==============================] - 1s 48ms/step - loss: 0.1098 - accuracy: 0.9668 - val_loss: 0.3670 - val_accuracy: 0.8638\n",
            "Epoch 9/20\n",
            "30/30 [==============================] - 1s 43ms/step - loss: 0.0982 - accuracy: 0.9708 - val_loss: 0.3133 - val_accuracy: 0.8826\n",
            "Epoch 10/20\n",
            "30/30 [==============================] - 2s 53ms/step - loss: 0.0812 - accuracy: 0.9781 - val_loss: 0.3474 - val_accuracy: 0.8787\n",
            "Epoch 11/20\n",
            "30/30 [==============================] - 1s 43ms/step - loss: 0.0711 - accuracy: 0.9816 - val_loss: 0.3500 - val_accuracy: 0.8812\n",
            "Epoch 12/20\n",
            "30/30 [==============================] - 1s 42ms/step - loss: 0.0607 - accuracy: 0.9855 - val_loss: 0.3669 - val_accuracy: 0.8807\n",
            "Epoch 13/20\n",
            "30/30 [==============================] - 1s 42ms/step - loss: 0.0506 - accuracy: 0.9889 - val_loss: 0.3995 - val_accuracy: 0.8699\n",
            "Epoch 14/20\n",
            "30/30 [==============================] - 1s 44ms/step - loss: 0.0421 - accuracy: 0.9915 - val_loss: 0.4191 - val_accuracy: 0.8766\n",
            "Epoch 15/20\n",
            "30/30 [==============================] - 2s 56ms/step - loss: 0.0356 - accuracy: 0.9933 - val_loss: 0.4289 - val_accuracy: 0.8768\n",
            "Epoch 16/20\n",
            "30/30 [==============================] - 3s 104ms/step - loss: 0.0296 - accuracy: 0.9947 - val_loss: 0.4530 - val_accuracy: 0.8759\n",
            "Epoch 17/20\n",
            "30/30 [==============================] - 1s 43ms/step - loss: 0.0233 - accuracy: 0.9968 - val_loss: 0.4755 - val_accuracy: 0.8703\n",
            "Epoch 18/20\n",
            "30/30 [==============================] - 1s 42ms/step - loss: 0.0206 - accuracy: 0.9970 - val_loss: 0.4970 - val_accuracy: 0.8727\n",
            "Epoch 19/20\n",
            "30/30 [==============================] - 1s 42ms/step - loss: 0.0197 - accuracy: 0.9962 - val_loss: 0.5159 - val_accuracy: 0.8721\n",
            "Epoch 20/20\n",
            "30/30 [==============================] - 1s 43ms/step - loss: 0.0107 - accuracy: 0.9993 - val_loss: 0.5533 - val_accuracy: 0.8720\n"
          ]
        }
      ]
    },
    {
      "cell_type": "code",
      "source": [
        "history_dict = history.history\n",
        "history_dict.keys()"
      ],
      "metadata": {
        "colab": {
          "base_uri": "https://localhost:8080/"
        },
        "id": "hgYkUJVouBFC",
        "outputId": "8798e57f-68fe-4ed8-d921-6991ef14fca4"
      },
      "execution_count": 20,
      "outputs": [
        {
          "output_type": "execute_result",
          "data": {
            "text/plain": [
              "dict_keys(['loss', 'accuracy', 'val_loss', 'val_accuracy'])"
            ]
          },
          "metadata": {},
          "execution_count": 20
        }
      ]
    },
    {
      "cell_type": "markdown",
      "source": [
        "**Plotting the training and validation loss**"
      ],
      "metadata": {
        "id": "eWSJm1l1uOgR"
      }
    },
    {
      "cell_type": "code",
      "source": [
        "import matplotlib.pyplot as plt\n",
        "history_dict = history.history\n",
        "loss_values = history_dict[\"loss\"]             # Plotting the losses\n",
        "val_loss_values = history_dict[\"val_loss\"]\n",
        "epochs = range(1, len(loss_values) + 1)\n",
        "plt.plot(epochs, loss_values, \"bo\", label=\"Training loss\")\n",
        "plt.plot(epochs, val_loss_values, \"b\", label=\"Validation loss\")\n",
        "plt.title(\"Training and validation loss\")\n",
        "plt.xlabel(\"Epochs\")\n",
        "plt.ylabel(\"Loss\")\n",
        "plt.legend()\n",
        "plt.show()"
      ],
      "metadata": {
        "colab": {
          "base_uri": "https://localhost:8080/",
          "height": 295
        },
        "id": "-sERxgrsuRoi",
        "outputId": "5d99e823-5d46-4111-df45-4fdaf4251f00"
      },
      "execution_count": 21,
      "outputs": [
        {
          "output_type": "display_data",
          "data": {
            "text/plain": [
              "<Figure size 432x288 with 1 Axes>"
            ],
            "image/png": "[encoded data removed]"
          },
          "metadata": {
            "needs_background": "light"
          }
        }
      ]
    },
    {
      "cell_type": "markdown",
      "source": [
        "**Plotting the  training and validation accuracy**"
      ],
      "metadata": {
        "id": "De3y0IjNvnws"
      }
    },
    {
      "cell_type": "code",
      "source": [
        "plt.clf()\n",
        "acc = history_dict[\"accuracy\"]\n",
        "val_acc = history_dict[\"val_accuracy\"]                     # Plotting the accuracy\n",
        "plt.plot(epochs, acc, \"bo\", label=\"Training acc\")\n",
        "plt.plot(epochs, val_acc, \"b\", label=\"Validation acc\")\n",
        "plt.title(\"Training and validation accuracy\")\n",
        "plt.xlabel(\"Epochs\")\n",
        "plt.ylabel(\"Accuracy\")\n",
        "plt.legend()\n",
        "plt.show()"
      ],
      "metadata": {
        "colab": {
          "base_uri": "https://localhost:8080/",
          "height": 295
        },
        "id": "i1WkX32DvXP-",
        "outputId": "a8d31368-7e35-4757-9c78-e5143baf2256"
      },
      "execution_count": 22,
      "outputs": [
        {
          "output_type": "display_data",
          "data": {
            "text/plain": [
              "<Figure size 432x288 with 1 Axes>"
            ],
            "image/png": "[encoded data removed]"
          },
          "metadata": {
            "needs_background": "light"
          }
        }
      ]
    },
    {
      "cell_type": "markdown",
      "source": [
        "**Retraining our model**"
      ],
      "metadata": {
        "id": "fuRKlOMnq7ij"
      }
    },
    {
      "cell_type": "markdown",
      "source": [
        "four epochs are used in retraining the model"
      ],
      "metadata": {
        "id": "f0egmPdxt8yy"
      }
    },
    {
      "cell_type": "code",
      "source": [
        "\n",
        "model = keras.Sequential([\n",
        "    layers.Dense(16, activation=\"relu\"),\n",
        "    layers.Dense(16, activation=\"relu\"),\n",
        "    layers.Dense(1, activation=\"sigmoid\")\n",
        "])\n",
        "model.compile(optimizer=\"rmsprop\",\n",
        "              loss=\"binary_crossentropy\",\n",
        "              metrics=[\"accuracy\"])\n",
        "\n",
        "model.fit(x_train, y_train, epochs=3, batch_size=512)     \n",
        "results = model.evaluate(x_test, y_test)"
      ],
      "metadata": {
        "colab": {
          "base_uri": "https://localhost:8080/"
        },
        "id": "AY9vAidMwK16",
        "outputId": "afd29442-5b75-4535-dcc3-3bad40e645d8"
      },
      "execution_count": 23,
      "outputs": [
        {
          "output_type": "stream",
          "name": "stdout",
          "text": [
            "Epoch 1/3\n",
            "49/49 [==============================] - 3s 33ms/step - loss: 0.4595 - accuracy: 0.8132\n",
            "Epoch 2/3\n",
            "49/49 [==============================] - 2s 44ms/step - loss: 0.2726 - accuracy: 0.9022\n",
            "Epoch 3/3\n",
            "49/49 [==============================] - 2s 38ms/step - loss: 0.2137 - accuracy: 0.9238\n",
            "782/782 [==============================] - 3s 3ms/step - loss: 0.2831 - accuracy: 0.8880\n"
          ]
        }
      ]
    },
    {
      "cell_type": "code",
      "source": [
        "results"
      ],
      "metadata": {
        "colab": {
          "base_uri": "https://localhost:8080/"
        },
        "id": "-4jQHy36wrnz",
        "outputId": "2d08556c-5556-44b7-a55f-a5a73f77a69a"
      },
      "execution_count": 24,
      "outputs": [
        {
          "output_type": "execute_result",
          "data": {
            "text/plain": [
              "[0.2830926477909088, 0.8880400061607361]"
            ]
          },
          "metadata": {},
          "execution_count": 24
        }
      ]
    },
    {
      "cell_type": "markdown",
      "source": [
        " **1.  You used two hidden layers. Try using one or three hidden layers, and see how doing so affects validation and test accuracy.**   "
      ],
      "metadata": {
        "id": "FwwDyiRQxiWR"
      }
    },
    {
      "cell_type": "code",
      "source": [
        "# model is built using three hidden layers with relu activation function\n",
        "model_13 = keras.Sequential([\n",
        "    layers.Dense(16, activation=\"relu\"),\n",
        "    layers.Dense(16, activation=\"relu\"),\n",
        "    layers.Dense(16, activation=\"relu\"),\n",
        "    layers.Dense(1, activation=\"sigmoid\")\n",
        "])\n",
        "\n",
        "# # model is built using one hidden layer with relu activation function\n",
        "model_11 = keras.Sequential([\n",
        "    layers.Dense(16, activation=\"relu\"),\n",
        "    layers.Dense(1, activation=\"sigmoid\")\n",
        "])"
      ],
      "metadata": {
        "id": "GpogSGR2yZRd"
      },
      "execution_count": 25,
      "outputs": []
    },
    {
      "cell_type": "code",
      "source": [
        "#using RMSProp and binary cross entropy for both the three and one hidden layers.\n",
        "model_13.compile(optimizer=\"rmsprop\",\n",
        "              loss=\"binary_crossentropy\",\n",
        "              metrics=[\"accuracy\"])\n",
        "\n",
        "model_11.compile(optimizer=\"rmsprop\",\n",
        "              loss=\"binary_crossentropy\",\n",
        "              metrics=[\"accuracy\"])"
      ],
      "metadata": {
        "id": "kF2DkUljy0Cd"
      },
      "execution_count": 26,
      "outputs": []
    },
    {
      "cell_type": "code",
      "source": [
        "# Here the fitting of the model is done by taking 20 epochs with batch size of 512.\n",
        "history_13 = model_13.fit(partial_x_train,\n",
        "                    partial_y_train,\n",
        "                    epochs=20,\n",
        "                    batch_size=512,\n",
        "                    validation_data=(x_val, y_val))\n",
        "\n",
        "history_11 = model_11.fit(partial_x_train,\n",
        "                    partial_y_train,\n",
        "                    epochs=20,\n",
        "                    batch_size=512,\n",
        "                    validation_data=(x_val, y_val))"
      ],
      "metadata": {
        "colab": {
          "base_uri": "https://localhost:8080/"
        },
        "id": "bqSmSl3rzSXg",
        "outputId": "f4ef9815-48d5-4d8e-e8d0-5fb272480370"
      },
      "execution_count": 27,
      "outputs": [
        {
          "output_type": "stream",
          "name": "stdout",
          "text": [
            "Epoch 1/20\n",
            "30/30 [==============================] - 4s 72ms/step - loss: 0.5573 - accuracy: 0.7495 - val_loss: 0.4029 - val_accuracy: 0.8589\n",
            "Epoch 2/20\n",
            "30/30 [==============================] - 1s 42ms/step - loss: 0.3283 - accuracy: 0.8888 - val_loss: 0.3118 - val_accuracy: 0.8824\n",
            "Epoch 3/20\n",
            "30/30 [==============================] - 1s 42ms/step - loss: 0.2316 - accuracy: 0.9203 - val_loss: 0.2924 - val_accuracy: 0.8832\n",
            "Epoch 4/20\n",
            "30/30 [==============================] - 1s 41ms/step - loss: 0.1878 - accuracy: 0.9351 - val_loss: 0.2983 - val_accuracy: 0.8787\n",
            "Epoch 5/20\n",
            "30/30 [==============================] - 1s 42ms/step - loss: 0.1541 - accuracy: 0.9487 - val_loss: 0.2847 - val_accuracy: 0.8858\n",
            "Epoch 6/20\n",
            "30/30 [==============================] - 1s 42ms/step - loss: 0.1288 - accuracy: 0.9577 - val_loss: 0.3002 - val_accuracy: 0.8825\n",
            "Epoch 7/20\n",
            "30/30 [==============================] - 1s 40ms/step - loss: 0.1031 - accuracy: 0.9683 - val_loss: 0.3277 - val_accuracy: 0.8775\n",
            "Epoch 8/20\n",
            "30/30 [==============================] - 2s 54ms/step - loss: 0.0938 - accuracy: 0.9698 - val_loss: 0.3751 - val_accuracy: 0.8735\n",
            "Epoch 9/20\n",
            "30/30 [==============================] - 2s 74ms/step - loss: 0.0770 - accuracy: 0.9759 - val_loss: 0.3679 - val_accuracy: 0.8789\n",
            "Epoch 10/20\n",
            "30/30 [==============================] - 1s 44ms/step - loss: 0.0620 - accuracy: 0.9822 - val_loss: 0.4225 - val_accuracy: 0.8670\n",
            "Epoch 11/20\n",
            "30/30 [==============================] - 1s 41ms/step - loss: 0.0508 - accuracy: 0.9864 - val_loss: 0.4302 - val_accuracy: 0.8772\n",
            "Epoch 12/20\n",
            "30/30 [==============================] - 1s 41ms/step - loss: 0.0453 - accuracy: 0.9881 - val_loss: 0.5338 - val_accuracy: 0.8618\n",
            "Epoch 13/20\n",
            "30/30 [==============================] - 1s 41ms/step - loss: 0.0367 - accuracy: 0.9901 - val_loss: 0.4733 - val_accuracy: 0.8752\n",
            "Epoch 14/20\n",
            "30/30 [==============================] - 1s 42ms/step - loss: 0.0322 - accuracy: 0.9916 - val_loss: 0.5089 - val_accuracy: 0.8723\n",
            "Epoch 15/20\n",
            "30/30 [==============================] - 1s 42ms/step - loss: 0.0314 - accuracy: 0.9909 - val_loss: 0.5279 - val_accuracy: 0.8700\n",
            "Epoch 16/20\n",
            "30/30 [==============================] - 1s 42ms/step - loss: 0.0258 - accuracy: 0.9932 - val_loss: 0.5602 - val_accuracy: 0.8694\n",
            "Epoch 17/20\n",
            "30/30 [==============================] - 1s 42ms/step - loss: 0.0100 - accuracy: 0.9992 - val_loss: 0.5836 - val_accuracy: 0.8703\n",
            "Epoch 18/20\n",
            "30/30 [==============================] - 2s 66ms/step - loss: 0.0198 - accuracy: 0.9945 - val_loss: 0.6225 - val_accuracy: 0.8699\n",
            "Epoch 19/20\n",
            "30/30 [==============================] - 2s 52ms/step - loss: 0.0060 - accuracy: 0.9997 - val_loss: 0.6470 - val_accuracy: 0.8699\n",
            "Epoch 20/20\n",
            "30/30 [==============================] - 1s 42ms/step - loss: 0.0221 - accuracy: 0.9937 - val_loss: 0.6773 - val_accuracy: 0.8681\n",
            "Epoch 1/20\n",
            "30/30 [==============================] - 3s 64ms/step - loss: 0.5180 - accuracy: 0.7913 - val_loss: 0.4091 - val_accuracy: 0.8613\n",
            "Epoch 2/20\n",
            "30/30 [==============================] - 1s 40ms/step - loss: 0.3431 - accuracy: 0.8927 - val_loss: 0.3316 - val_accuracy: 0.8819\n",
            "Epoch 3/20\n",
            "30/30 [==============================] - 1s 41ms/step - loss: 0.2732 - accuracy: 0.9107 - val_loss: 0.2995 - val_accuracy: 0.8871\n",
            "Epoch 4/20\n",
            "30/30 [==============================] - 1s 42ms/step - loss: 0.2287 - accuracy: 0.9263 - val_loss: 0.2838 - val_accuracy: 0.8893\n",
            "Epoch 5/20\n",
            "30/30 [==============================] - 2s 57ms/step - loss: 0.1988 - accuracy: 0.9371 - val_loss: 0.2799 - val_accuracy: 0.8884\n",
            "Epoch 6/20\n",
            "30/30 [==============================] - 2s 56ms/step - loss: 0.1769 - accuracy: 0.9442 - val_loss: 0.2746 - val_accuracy: 0.8886\n",
            "Epoch 7/20\n",
            "30/30 [==============================] - 1s 40ms/step - loss: 0.1594 - accuracy: 0.9495 - val_loss: 0.2756 - val_accuracy: 0.8878\n",
            "Epoch 8/20\n",
            "30/30 [==============================] - 1s 41ms/step - loss: 0.1440 - accuracy: 0.9568 - val_loss: 0.2804 - val_accuracy: 0.8861\n",
            "Epoch 9/20\n",
            "30/30 [==============================] - 1s 39ms/step - loss: 0.1318 - accuracy: 0.9617 - val_loss: 0.2839 - val_accuracy: 0.8849\n",
            "Epoch 10/20\n",
            "30/30 [==============================] - 1s 40ms/step - loss: 0.1208 - accuracy: 0.9649 - val_loss: 0.2913 - val_accuracy: 0.8840\n",
            "Epoch 11/20\n",
            "30/30 [==============================] - 1s 38ms/step - loss: 0.1105 - accuracy: 0.9692 - val_loss: 0.2948 - val_accuracy: 0.8848\n",
            "Epoch 12/20\n",
            "30/30 [==============================] - 1s 39ms/step - loss: 0.1013 - accuracy: 0.9734 - val_loss: 0.3060 - val_accuracy: 0.8851\n",
            "Epoch 13/20\n",
            "30/30 [==============================] - 1s 41ms/step - loss: 0.0943 - accuracy: 0.9758 - val_loss: 0.3144 - val_accuracy: 0.8783\n",
            "Epoch 14/20\n",
            "30/30 [==============================] - 1s 42ms/step - loss: 0.0868 - accuracy: 0.9785 - val_loss: 0.3178 - val_accuracy: 0.8832\n",
            "Epoch 15/20\n",
            "30/30 [==============================] - 2s 65ms/step - loss: 0.0798 - accuracy: 0.9811 - val_loss: 0.3340 - val_accuracy: 0.8809\n",
            "Epoch 16/20\n",
            "30/30 [==============================] - 2s 53ms/step - loss: 0.0745 - accuracy: 0.9834 - val_loss: 0.3340 - val_accuracy: 0.8790\n",
            "Epoch 17/20\n",
            "30/30 [==============================] - 1s 42ms/step - loss: 0.0683 - accuracy: 0.9848 - val_loss: 0.3507 - val_accuracy: 0.8737\n",
            "Epoch 18/20\n",
            "30/30 [==============================] - 1s 39ms/step - loss: 0.0641 - accuracy: 0.9867 - val_loss: 0.3578 - val_accuracy: 0.8791\n",
            "Epoch 19/20\n",
            "30/30 [==============================] - 1s 38ms/step - loss: 0.0584 - accuracy: 0.9888 - val_loss: 0.3603 - val_accuracy: 0.8779\n",
            "Epoch 20/20\n",
            "30/30 [==============================] - 1s 41ms/step - loss: 0.0543 - accuracy: 0.9909 - val_loss: 0.3758 - val_accuracy: 0.8785\n"
          ]
        }
      ]
    },
    {
      "cell_type": "markdown",
      "source": [
        "Plotting training and validation loss"
      ],
      "metadata": {
        "id": "Qw06JouV0Z9i"
      }
    },
    {
      "cell_type": "code",
      "source": [
        "historyp_13 = history_13.history\n",
        "historyp_13.keys()"
      ],
      "metadata": {
        "colab": {
          "base_uri": "https://localhost:8080/"
        },
        "id": "CEpkPS1N3GIA",
        "outputId": "0dfafd5d-73d8-43ee-c2f1-232146c6443a"
      },
      "execution_count": 28,
      "outputs": [
        {
          "output_type": "execute_result",
          "data": {
            "text/plain": [
              "dict_keys(['loss', 'accuracy', 'val_loss', 'val_accuracy'])"
            ]
          },
          "metadata": {},
          "execution_count": 28
        }
      ]
    },
    {
      "cell_type": "code",
      "source": [
        "historyp_11 = history_11.history\n",
        "historyp_11.keys()"
      ],
      "metadata": {
        "id": "F5Aa5fjo3vOe",
        "colab": {
          "base_uri": "https://localhost:8080/"
        },
        "outputId": "1248b8d5-ae3e-407d-fe79-5b2d01900516"
      },
      "execution_count": 29,
      "outputs": [
        {
          "output_type": "execute_result",
          "data": {
            "text/plain": [
              "dict_keys(['loss', 'accuracy', 'val_loss', 'val_accuracy'])"
            ]
          },
          "metadata": {},
          "execution_count": 29
        }
      ]
    },
    {
      "cell_type": "markdown",
      "source": [
        "Plotting training and testing loss"
      ],
      "metadata": {
        "id": "6NeJKzEe6j5y"
      }
    },
    {
      "cell_type": "code",
      "source": [
        "\n",
        "historyp_13 = history_13.history\n",
        "loss_values3 = historyp_13[\"loss\"]\n",
        "val_loss_values3 = historyp_13[\"val_loss\"]            #plotting the losses\n",
        "epochs = range(1, len(loss_values) + 1)\n",
        "plt.plot(epochs, loss_values3, \"bo\", label=\"Training loss\")\n",
        "plt.plot(epochs, val_loss_values3, \"b\", label=\"Validation loss\")\n",
        "plt.title(\"Training and validation loss\")\n",
        "plt.xlabel(\"Epochs\")\n",
        "plt.ylabel(\"Loss\")\n",
        "plt.legend()\n",
        "plt.show()"
      ],
      "metadata": {
        "id": "DFhWu0gc0V1Q",
        "colab": {
          "base_uri": "https://localhost:8080/",
          "height": 295
        },
        "outputId": "4414764a-bd1f-4412-d473-5e74180a5f0d"
      },
      "execution_count": 30,
      "outputs": [
        {
          "output_type": "display_data",
          "data": {
            "text/plain": [
              "<Figure size 432x288 with 1 Axes>"
            ],
            "image/png": "[encoded data removed]"
          },
          "metadata": {
            "needs_background": "light"
          }
        }
      ]
    },
    {
      "cell_type": "markdown",
      "source": [
        "Here, the minimum validation loss is observed at 5th epoch"
      ],
      "metadata": {
        "id": "QQy76qvXwaxI"
      }
    },
    {
      "cell_type": "code",
      "source": [
        "historyp_11 = history_11.history\n",
        "loss_values1 = historyp_11[\"loss\"]\n",
        "val_loss_values1 = historyp_11[\"val_loss\"]           #plotting the losses\n",
        "epochs = range(1, len(loss_values) + 1)\n",
        "plt.plot(epochs, loss_values1, \"bo\", label=\"Training loss\")\n",
        "plt.plot(epochs, val_loss_values1, \"b\", label=\"Validation loss\")\n",
        "plt.title(\"Training and validation loss\")\n",
        "plt.xlabel(\"Epochs\")\n",
        "plt.ylabel(\"Loss\")\n",
        "plt.legend()\n",
        "plt.show()"
      ],
      "metadata": {
        "id": "TByjsW5B4wXc",
        "colab": {
          "base_uri": "https://localhost:8080/",
          "height": 295
        },
        "outputId": "20a8ffd6-70cd-49a6-d466-5c6108682473"
      },
      "execution_count": 31,
      "outputs": [
        {
          "output_type": "display_data",
          "data": {
            "text/plain": [
              "<Figure size 432x288 with 1 Axes>"
            ],
            "image/png": "[encoded data removed]"
          },
          "metadata": {
            "needs_background": "light"
          }
        }
      ]
    },
    {
      "cell_type": "markdown",
      "source": [
        "Here, the minimum validation loss is observed at 5th epoch"
      ],
      "metadata": {
        "id": "U4H7GYKswo8o"
      }
    },
    {
      "cell_type": "markdown",
      "source": [
        "Plotting training and testing accuracy"
      ],
      "metadata": {
        "id": "Fd4ohrJ06KLM"
      }
    },
    {
      "cell_type": "code",
      "source": [
        "plt.clf()\n",
        "acc3 = historyp_13[\"accuracy\"]\n",
        "val_acc3 = historyp_13[\"val_accuracy\"]           #plotting the accuracy \n",
        "plt.plot(epochs, acc3, \"bo\", label=\"Training acc\")\n",
        "plt.plot(epochs, val_acc3, \"b\", label=\"Validation acc\")\n",
        "plt.title(\"Training and validation accuracy\")\n",
        "plt.xlabel(\"Epochs\")\n",
        "plt.ylabel(\"Accuracy\")\n",
        "plt.legend()\n",
        "plt.show()"
      ],
      "metadata": {
        "id": "ccrjlVN_6JJO",
        "colab": {
          "base_uri": "https://localhost:8080/",
          "height": 295
        },
        "outputId": "4257c51f-7e78-4f17-ca1e-3bc06338e8e8"
      },
      "execution_count": 32,
      "outputs": [
        {
          "output_type": "display_data",
          "data": {
            "text/plain": [
              "<Figure size 432x288 with 1 Axes>"
            ],
            "image/png": "[encoded data removed]"
          },
          "metadata": {
            "needs_background": "light"
          }
        }
      ]
    },
    {
      "cell_type": "markdown",
      "source": [
        "Here, the maximum validation accuracy is observed at 5th epoch"
      ],
      "metadata": {
        "id": "HP-Q6MwewyAD"
      }
    },
    {
      "cell_type": "code",
      "source": [
        "plt.clf()\n",
        "acc1 = historyp_11[\"accuracy\"]\n",
        "val_acc1 = historyp_11[\"val_accuracy\"]          #plotting the accuracy\n",
        "plt.plot(epochs, acc1, \"bo\", label=\"Training acc\")\n",
        "plt.plot(epochs, val_acc1, \"b\", label=\"Validation acc\")\n",
        "plt.title(\"Training and validation accuracy\")\n",
        "plt.xlabel(\"Epochs\")\n",
        "plt.ylabel(\"Accuracy\")\n",
        "plt.legend()\n",
        "plt.show()"
      ],
      "metadata": {
        "id": "LlEmFDSV6Qhd",
        "colab": {
          "base_uri": "https://localhost:8080/",
          "height": 295
        },
        "outputId": "a5cbe33b-efc8-492a-859c-30a2acee20fc"
      },
      "execution_count": 33,
      "outputs": [
        {
          "output_type": "display_data",
          "data": {
            "text/plain": [
              "<Figure size 432x288 with 1 Axes>"
            ],
            "image/png": "[encoded data removed]"
          },
          "metadata": {
            "needs_background": "light"
          }
        }
      ]
    },
    {
      "cell_type": "markdown",
      "source": [
        "Here, the maximum vallidation accuracy is observed at 5th epoch."
      ],
      "metadata": {
        "id": "V3gTnnV1w4ai"
      }
    },
    {
      "cell_type": "markdown",
      "source": [
        " **2. Try using layers with more hidden units or fewer hidden units: 32 units, 64 units, and so on.**   \n",
        "\n",
        "\n",
        "\n"
      ],
      "metadata": {
        "id": "J__QkNSI-4uv"
      }
    },
    {
      "cell_type": "code",
      "source": [
        "#model is built using 2 hidden layers with 32 and 64 nodes.\n",
        "model_2 = keras.Sequential([\n",
        "    layers.Dense(32, activation=\"relu\"),\n",
        "    layers.Dense(64, activation=\"relu\"),\n",
        "    layers.Dense(1, activation=\"sigmoid\")\n",
        "])"
      ],
      "metadata": {
        "id": "J9jFmeaL-ir5"
      },
      "execution_count": 34,
      "outputs": []
    },
    {
      "cell_type": "code",
      "source": [
        "#using RMSProp and binary cross entropy \n",
        "model_2.compile(optimizer=\"rmsprop\",\n",
        "              loss=\"binary_crossentropy\",\n",
        "              metrics=[\"accuracy\"])"
      ],
      "metadata": {
        "id": "nTmpWMkN_Rs1"
      },
      "execution_count": 35,
      "outputs": []
    },
    {
      "cell_type": "code",
      "source": [
        "# Here the fitting of the model is done by taking 20 epochs with batch size of 512.\n",
        "history2 = model_2.fit(partial_x_train,\n",
        "                    partial_y_train,\n",
        "                    epochs=20,\n",
        "                    batch_size=512,\n",
        "                    validation_data=(x_val, y_val))"
      ],
      "metadata": {
        "colab": {
          "base_uri": "https://localhost:8080/"
        },
        "id": "MLiUQZR4_Zum",
        "outputId": "cec1a7db-719d-4a14-dc87-09995836047e"
      },
      "execution_count": 36,
      "outputs": [
        {
          "output_type": "stream",
          "name": "stdout",
          "text": [
            "Epoch 1/20\n",
            "30/30 [==============================] - 3s 88ms/step - loss: 0.4971 - accuracy: 0.7749 - val_loss: 0.4101 - val_accuracy: 0.8221\n",
            "Epoch 2/20\n",
            "30/30 [==============================] - 2s 75ms/step - loss: 0.2882 - accuracy: 0.8978 - val_loss: 0.2944 - val_accuracy: 0.8832\n",
            "Epoch 3/20\n",
            "30/30 [==============================] - 2s 50ms/step - loss: 0.2117 - accuracy: 0.9250 - val_loss: 0.4231 - val_accuracy: 0.8280\n",
            "Epoch 4/20\n",
            "30/30 [==============================] - 2s 59ms/step - loss: 0.1838 - accuracy: 0.9338 - val_loss: 0.2785 - val_accuracy: 0.8875\n",
            "Epoch 5/20\n",
            "30/30 [==============================] - 1s 49ms/step - loss: 0.1463 - accuracy: 0.9498 - val_loss: 0.3164 - val_accuracy: 0.8752\n",
            "Epoch 6/20\n",
            "30/30 [==============================] - 2s 51ms/step - loss: 0.1283 - accuracy: 0.9547 - val_loss: 0.3115 - val_accuracy: 0.8836\n",
            "Epoch 7/20\n",
            "30/30 [==============================] - 1s 47ms/step - loss: 0.1063 - accuracy: 0.9639 - val_loss: 0.3217 - val_accuracy: 0.8837\n",
            "Epoch 8/20\n",
            "30/30 [==============================] - 1s 48ms/step - loss: 0.0883 - accuracy: 0.9703 - val_loss: 0.3437 - val_accuracy: 0.8815\n",
            "Epoch 9/20\n",
            "30/30 [==============================] - 2s 56ms/step - loss: 0.0714 - accuracy: 0.9778 - val_loss: 0.3907 - val_accuracy: 0.8705\n",
            "Epoch 10/20\n",
            "30/30 [==============================] - 2s 79ms/step - loss: 0.0663 - accuracy: 0.9790 - val_loss: 0.4048 - val_accuracy: 0.8715\n",
            "Epoch 11/20\n",
            "30/30 [==============================] - 2s 60ms/step - loss: 0.0489 - accuracy: 0.9863 - val_loss: 0.5373 - val_accuracy: 0.8532\n",
            "Epoch 12/20\n",
            "30/30 [==============================] - 1s 48ms/step - loss: 0.0511 - accuracy: 0.9855 - val_loss: 0.4511 - val_accuracy: 0.8724\n",
            "Epoch 13/20\n",
            "30/30 [==============================] - 2s 59ms/step - loss: 0.0374 - accuracy: 0.9895 - val_loss: 0.4793 - val_accuracy: 0.8720\n",
            "Epoch 14/20\n",
            "30/30 [==============================] - 2s 58ms/step - loss: 0.0372 - accuracy: 0.9885 - val_loss: 0.5006 - val_accuracy: 0.8707\n",
            "Epoch 15/20\n",
            "30/30 [==============================] - 2s 59ms/step - loss: 0.0158 - accuracy: 0.9983 - val_loss: 0.8225 - val_accuracy: 0.8236\n",
            "Epoch 16/20\n",
            "30/30 [==============================] - 2s 59ms/step - loss: 0.0207 - accuracy: 0.9951 - val_loss: 0.5992 - val_accuracy: 0.8681\n",
            "Epoch 17/20\n",
            "30/30 [==============================] - 2s 79ms/step - loss: 0.0298 - accuracy: 0.9929 - val_loss: 0.5830 - val_accuracy: 0.8690\n",
            "Epoch 18/20\n",
            "30/30 [==============================] - 2s 67ms/step - loss: 0.0158 - accuracy: 0.9965 - val_loss: 0.6282 - val_accuracy: 0.8655\n",
            "Epoch 19/20\n",
            "30/30 [==============================] - 1s 48ms/step - loss: 0.0062 - accuracy: 0.9999 - val_loss: 0.6376 - val_accuracy: 0.8718\n",
            "Epoch 20/20\n",
            "30/30 [==============================] - 1s 48ms/step - loss: 0.0266 - accuracy: 0.9925 - val_loss: 0.6537 - val_accuracy: 0.8703\n"
          ]
        }
      ]
    },
    {
      "cell_type": "code",
      "source": [
        "historyp2 = history2.history\n",
        "loss_values = historyp2[\"loss\"]\n",
        "val_loss_values = historyp2[\"val_loss\"]\n",
        "epochs = range(1, len(loss_values) + 1)\n",
        "plt.plot(epochs, loss_values, \"bo\", label=\"Training loss\")\n",
        "plt.plot(epochs, val_loss_values, \"b\", label=\"Validation loss\")\n",
        "plt.title(\"Training and validation loss\")\n",
        "plt.xlabel(\"Epochs\")\n",
        "plt.ylabel(\"Loss\")\n",
        "plt.legend()\n",
        "plt.show()\n",
        "\n",
        "plt.clf()\n",
        "acc = historyp2[\"accuracy\"]\n",
        "val_acc = historyp2[\"val_accuracy\"]\n",
        "plt.plot(epochs, acc, \"bo\", label=\"Training acc\")\n",
        "plt.plot(epochs, val_acc, \"b\", label=\"Validation acc\")\n",
        "plt.title(\"Training and validation accuracy\")\n",
        "plt.xlabel(\"Epochs\")\n",
        "plt.ylabel(\"Accuracy\")\n",
        "plt.legend()\n",
        "plt.show()"
      ],
      "metadata": {
        "colab": {
          "base_uri": "https://localhost:8080/",
          "height": 573
        },
        "id": "qoRzBi3J_7cj",
        "outputId": "537c5777-7742-48f6-d38d-35d5c0050ce7"
      },
      "execution_count": 37,
      "outputs": [
        {
          "output_type": "display_data",
          "data": {
            "text/plain": [
              "<Figure size 432x288 with 1 Axes>"
            ],
            "image/png": "[encoded data removed]"
          },
          "metadata": {
            "needs_background": "light"
          }
        },
        {
          "output_type": "display_data",
          "data": {
            "text/plain": [
              "<Figure size 432x288 with 1 Axes>"
            ],
            "image/png": "[encoded data removed]"
          },
          "metadata": {
            "needs_background": "light"
          }
        }
      ]
    },
    {
      "cell_type": "markdown",
      "source": [
        "The minimum validation loss is observed at 3rd epoch and maximum validation accuracy is observed at 3rd and 4th epochs."
      ],
      "metadata": {
        "id": "RpWt2Z-FxdMu"
      }
    },
    {
      "cell_type": "markdown",
      "source": [
        "**3. Try using the mse loss function instead of binary_crossentropy.** "
      ],
      "metadata": {
        "id": "_AM_i8l-DCHO"
      }
    },
    {
      "cell_type": "code",
      "source": [
        "model_3 = keras.Sequential([\n",
        "    layers.Dense(16, activation=\"relu\"),\n",
        "    layers.Dense(16, activation=\"relu\"),\n",
        "    layers.Dense(1, activation=\"sigmoid\")\n",
        "])"
      ],
      "metadata": {
        "id": "QA257SICDOYw"
      },
      "execution_count": 38,
      "outputs": []
    },
    {
      "cell_type": "code",
      "source": [
        "#using RMSProp and mse loss function \n",
        "model_3.compile(optimizer=\"rmsprop\",\n",
        "              loss=\"mse\",\n",
        "              metrics=[\"accuracy\"])"
      ],
      "metadata": {
        "id": "WZ2aP8ETDVxi"
      },
      "execution_count": 39,
      "outputs": []
    },
    {
      "cell_type": "code",
      "source": [
        "# Here the fitting of the model is done by taking 20 epochs with batch size of 512.\n",
        "history3 = model_3.fit(partial_x_train,\n",
        "                    partial_y_train,\n",
        "                    epochs=20,\n",
        "                    batch_size=512,\n",
        "                    validation_data=(x_val, y_val))"
      ],
      "metadata": {
        "colab": {
          "base_uri": "https://localhost:8080/"
        },
        "id": "XfYaAIyBDZjj",
        "outputId": "be3fae4c-5841-44ee-9a0c-aeca8a44fa90"
      },
      "execution_count": 40,
      "outputs": [
        {
          "output_type": "stream",
          "name": "stdout",
          "text": [
            "Epoch 1/20\n",
            "30/30 [==============================] - 3s 63ms/step - loss: 0.1882 - accuracy: 0.7567 - val_loss: 0.1336 - val_accuracy: 0.8558\n",
            "Epoch 2/20\n",
            "30/30 [==============================] - 1s 41ms/step - loss: 0.1095 - accuracy: 0.8839 - val_loss: 0.1020 - val_accuracy: 0.8787\n",
            "Epoch 3/20\n",
            "30/30 [==============================] - 1s 41ms/step - loss: 0.0817 - accuracy: 0.9073 - val_loss: 0.0956 - val_accuracy: 0.8748\n",
            "Epoch 4/20\n",
            "30/30 [==============================] - 1s 41ms/step - loss: 0.0665 - accuracy: 0.9246 - val_loss: 0.0859 - val_accuracy: 0.8880\n",
            "Epoch 5/20\n",
            "30/30 [==============================] - 1s 42ms/step - loss: 0.0572 - accuracy: 0.9369 - val_loss: 0.0879 - val_accuracy: 0.8808\n",
            "Epoch 6/20\n",
            "30/30 [==============================] - 1s 41ms/step - loss: 0.0497 - accuracy: 0.9447 - val_loss: 0.0849 - val_accuracy: 0.8843\n",
            "Epoch 7/20\n",
            "30/30 [==============================] - 1s 40ms/step - loss: 0.0434 - accuracy: 0.9527 - val_loss: 0.0833 - val_accuracy: 0.8859\n",
            "Epoch 8/20\n",
            "30/30 [==============================] - 2s 56ms/step - loss: 0.0394 - accuracy: 0.9588 - val_loss: 0.0979 - val_accuracy: 0.8671\n",
            "Epoch 9/20\n",
            "30/30 [==============================] - 2s 67ms/step - loss: 0.0347 - accuracy: 0.9655 - val_loss: 0.0890 - val_accuracy: 0.8804\n",
            "Epoch 10/20\n",
            "30/30 [==============================] - 1s 41ms/step - loss: 0.0318 - accuracy: 0.9674 - val_loss: 0.0872 - val_accuracy: 0.8787\n",
            "Epoch 11/20\n",
            "30/30 [==============================] - 1s 41ms/step - loss: 0.0284 - accuracy: 0.9729 - val_loss: 0.0878 - val_accuracy: 0.8789\n",
            "Epoch 12/20\n",
            "30/30 [==============================] - 1s 40ms/step - loss: 0.0259 - accuracy: 0.9763 - val_loss: 0.0924 - val_accuracy: 0.8730\n",
            "Epoch 13/20\n",
            "30/30 [==============================] - 1s 45ms/step - loss: 0.0239 - accuracy: 0.9785 - val_loss: 0.0996 - val_accuracy: 0.8675\n",
            "Epoch 14/20\n",
            "30/30 [==============================] - 1s 44ms/step - loss: 0.0201 - accuracy: 0.9833 - val_loss: 0.0989 - val_accuracy: 0.8691\n",
            "Epoch 15/20\n",
            "30/30 [==============================] - 1s 42ms/step - loss: 0.0195 - accuracy: 0.9831 - val_loss: 0.0944 - val_accuracy: 0.8745\n",
            "Epoch 16/20\n",
            "30/30 [==============================] - 1s 42ms/step - loss: 0.0175 - accuracy: 0.9856 - val_loss: 0.0989 - val_accuracy: 0.8709\n",
            "Epoch 17/20\n",
            "30/30 [==============================] - 2s 54ms/step - loss: 0.0165 - accuracy: 0.9858 - val_loss: 0.0954 - val_accuracy: 0.8737\n",
            "Epoch 18/20\n",
            "30/30 [==============================] - 2s 68ms/step - loss: 0.0139 - accuracy: 0.9893 - val_loss: 0.0999 - val_accuracy: 0.8712\n",
            "Epoch 19/20\n",
            "30/30 [==============================] - 1s 46ms/step - loss: 0.0152 - accuracy: 0.9862 - val_loss: 0.0976 - val_accuracy: 0.8741\n",
            "Epoch 20/20\n",
            "30/30 [==============================] - 1s 41ms/step - loss: 0.0133 - accuracy: 0.9881 - val_loss: 0.0987 - val_accuracy: 0.8731\n"
          ]
        }
      ]
    },
    {
      "cell_type": "markdown",
      "source": [
        "**Plotting training and testing loss**"
      ],
      "metadata": {
        "id": "NeM02vLKETI5"
      }
    },
    {
      "cell_type": "code",
      "source": [
        "historyp3 = history3.history\n",
        "loss_values = historyp3[\"loss\"]\n",
        "val_loss_values = historyp3[\"val_loss\"]             #plotting the losses\n",
        "epochs = range(1, len(loss_values) + 1)\n",
        "plt.plot(epochs, loss_values, \"bo\", label=\"Training loss\")\n",
        "plt.plot(epochs, val_loss_values, \"b\", label=\"Validation loss\")\n",
        "plt.title(\"Training and validation loss\")\n",
        "plt.xlabel(\"Epochs\")\n",
        "plt.ylabel(\"Loss\")\n",
        "plt.legend()\n",
        "plt.show()"
      ],
      "metadata": {
        "colab": {
          "base_uri": "https://localhost:8080/",
          "height": 295
        },
        "id": "Ohvf0JZCEowa",
        "outputId": "a6213278-a2db-40d9-9c10-4ff9258ebd06"
      },
      "execution_count": 41,
      "outputs": [
        {
          "output_type": "display_data",
          "data": {
            "text/plain": [
              "<Figure size 432x288 with 1 Axes>"
            ],
            "image/png": "[encoded data removed]"
          },
          "metadata": {
            "needs_background": "light"
          }
        }
      ]
    },
    {
      "cell_type": "markdown",
      "source": [
        "Here, the minimum validation loss is observed in 3rd epoch."
      ],
      "metadata": {
        "id": "KNEnrLqDykgy"
      }
    },
    {
      "cell_type": "code",
      "source": [
        "plt.clf()\n",
        "acc = historyp3[\"accuracy\"]\n",
        "val_acc = historyp3[\"val_accuracy\"]            #plotting the accuracy plots\n",
        "plt.plot(epochs, acc, \"bo\", label=\"Training acc\")\n",
        "plt.plot(epochs, val_acc, \"b\", label=\"Validation acc\")\n",
        "plt.title(\"Training and validation accuracy\")\n",
        "plt.xlabel(\"Epochs\")\n",
        "plt.ylabel(\"Accuracy\")\n",
        "plt.legend()\n",
        "plt.show()"
      ],
      "metadata": {
        "colab": {
          "base_uri": "https://localhost:8080/",
          "height": 295
        },
        "id": "Waiw97eBFo5T",
        "outputId": "35db579e-bb64-496f-dc3e-e5481040b5c1"
      },
      "execution_count": 42,
      "outputs": [
        {
          "output_type": "display_data",
          "data": {
            "text/plain": [
              "<Figure size 432x288 with 1 Axes>"
            ],
            "image/png": "[encoded data removed]"
          },
          "metadata": {
            "needs_background": "light"
          }
        }
      ]
    },
    {
      "cell_type": "markdown",
      "source": [
        "Here, the maximum accuracy is observed in 2nd and 3rd epochs."
      ],
      "metadata": {
        "id": "q6UdI_Ojyudu"
      }
    },
    {
      "cell_type": "markdown",
      "source": [
        "**4. Try using the tanh activation (an activation that was popular in the early days of neural networks) instead of relu.**"
      ],
      "metadata": {
        "id": "bhrs25VLGINO"
      }
    },
    {
      "cell_type": "code",
      "source": [
        "#model is built using tanh activation function.\n",
        "model_4 = keras.Sequential([\n",
        "    layers.Dense(16, activation=\"tanh\"),\n",
        "    layers.Dense(16, activation=\"tanh\"),\n",
        "    layers.Dense(1, activation=\"sigmoid\")\n",
        "])"
      ],
      "metadata": {
        "id": "h4HxKoNGGWgg"
      },
      "execution_count": 43,
      "outputs": []
    },
    {
      "cell_type": "code",
      "source": [
        "#using RMSProp and binary cross entropy \n",
        "model_4.compile(optimizer=\"rmsprop\",\n",
        "              loss=\"mse\",\n",
        "              metrics=[\"accuracy\"])"
      ],
      "metadata": {
        "id": "K9DD0vPPGZBS"
      },
      "execution_count": 44,
      "outputs": []
    },
    {
      "cell_type": "code",
      "source": [
        "# Here the fitting of the model is done by taking 20 epochs with batch size of 512.\n",
        "history4 = model_4.fit(partial_x_train,\n",
        "                    partial_y_train,\n",
        "                    epochs=20,\n",
        "                    batch_size=512,\n",
        "                    validation_data=(x_val, y_val))"
      ],
      "metadata": {
        "colab": {
          "base_uri": "https://localhost:8080/"
        },
        "id": "Z37QsbXzHPPe",
        "outputId": "b0f202cb-ddde-4198-f5dd-2b07bc493be2"
      },
      "execution_count": 45,
      "outputs": [
        {
          "output_type": "stream",
          "name": "stdout",
          "text": [
            "Epoch 1/20\n",
            "30/30 [==============================] - 3s 64ms/step - loss: 0.1661 - accuracy: 0.7816 - val_loss: 0.1144 - val_accuracy: 0.8669\n",
            "Epoch 2/20\n",
            "30/30 [==============================] - 1s 42ms/step - loss: 0.0917 - accuracy: 0.8951 - val_loss: 0.0906 - val_accuracy: 0.8812\n",
            "Epoch 3/20\n",
            "30/30 [==============================] - 1s 41ms/step - loss: 0.0681 - accuracy: 0.9171 - val_loss: 0.0891 - val_accuracy: 0.8777\n",
            "Epoch 4/20\n",
            "30/30 [==============================] - 1s 49ms/step - loss: 0.0532 - accuracy: 0.9370 - val_loss: 0.0871 - val_accuracy: 0.8796\n",
            "Epoch 5/20\n",
            "30/30 [==============================] - 2s 62ms/step - loss: 0.0442 - accuracy: 0.9483 - val_loss: 0.0963 - val_accuracy: 0.8692\n",
            "Epoch 6/20\n",
            "30/30 [==============================] - 1s 47ms/step - loss: 0.0382 - accuracy: 0.9549 - val_loss: 0.0891 - val_accuracy: 0.8805\n",
            "Epoch 7/20\n",
            "30/30 [==============================] - 1s 40ms/step - loss: 0.0315 - accuracy: 0.9647 - val_loss: 0.0911 - val_accuracy: 0.8787\n",
            "Epoch 8/20\n",
            "30/30 [==============================] - 1s 41ms/step - loss: 0.0259 - accuracy: 0.9725 - val_loss: 0.0955 - val_accuracy: 0.8753\n",
            "Epoch 9/20\n",
            "30/30 [==============================] - 1s 42ms/step - loss: 0.0245 - accuracy: 0.9729 - val_loss: 0.0970 - val_accuracy: 0.8763\n",
            "Epoch 10/20\n",
            "30/30 [==============================] - 1s 42ms/step - loss: 0.0231 - accuracy: 0.9739 - val_loss: 0.0971 - val_accuracy: 0.8763\n",
            "Epoch 11/20\n",
            "30/30 [==============================] - 1s 39ms/step - loss: 0.0193 - accuracy: 0.9791 - val_loss: 0.1037 - val_accuracy: 0.8712\n",
            "Epoch 12/20\n",
            "30/30 [==============================] - 1s 41ms/step - loss: 0.0183 - accuracy: 0.9805 - val_loss: 0.1005 - val_accuracy: 0.8768\n",
            "Epoch 13/20\n",
            "30/30 [==============================] - 1s 42ms/step - loss: 0.0148 - accuracy: 0.9852 - val_loss: 0.1018 - val_accuracy: 0.8774\n",
            "Epoch 14/20\n",
            "30/30 [==============================] - 1s 50ms/step - loss: 0.0158 - accuracy: 0.9831 - val_loss: 0.1026 - val_accuracy: 0.8752\n",
            "Epoch 15/20\n",
            "30/30 [==============================] - 2s 66ms/step - loss: 0.0136 - accuracy: 0.9849 - val_loss: 0.1044 - val_accuracy: 0.8737\n",
            "Epoch 16/20\n",
            "30/30 [==============================] - 1s 40ms/step - loss: 0.0093 - accuracy: 0.9915 - val_loss: 0.1049 - val_accuracy: 0.8746\n",
            "Epoch 17/20\n",
            "30/30 [==============================] - 1s 40ms/step - loss: 0.0132 - accuracy: 0.9854 - val_loss: 0.1057 - val_accuracy: 0.8747\n",
            "Epoch 18/20\n",
            "30/30 [==============================] - 1s 42ms/step - loss: 0.0082 - accuracy: 0.9924 - val_loss: 0.1439 - val_accuracy: 0.8374\n",
            "Epoch 19/20\n",
            "30/30 [==============================] - 1s 40ms/step - loss: 0.0128 - accuracy: 0.9859 - val_loss: 0.1070 - val_accuracy: 0.8744\n",
            "Epoch 20/20\n",
            "30/30 [==============================] - 1s 43ms/step - loss: 0.0126 - accuracy: 0.9859 - val_loss: 0.1075 - val_accuracy: 0.8750\n"
          ]
        }
      ]
    },
    {
      "cell_type": "code",
      "source": [
        "historyp4 = history4.history\n",
        "loss_values = historyp4[\"loss\"]\n",
        "val_loss_values = historyp4[\"val_loss\"]\n",
        "epochs = range(1, len(loss_values) + 1)\n",
        "plt.plot(epochs, loss_values, \"bo\", label=\"Training loss\")\n",
        "plt.plot(epochs, val_loss_values, \"b\", label=\"Validation loss\")\n",
        "plt.title(\"Training and validation loss\")\n",
        "plt.xlabel(\"Epochs\")\n",
        "plt.ylabel(\"Loss\")\n",
        "plt.legend()\n",
        "plt.show()\n",
        "\n",
        "plt.clf()\n",
        "acc = historyp4[\"accuracy\"]\n",
        "val_acc = historyp4[\"val_accuracy\"]\n",
        "plt.plot(epochs, acc, \"bo\", label=\"Training acc\")\n",
        "plt.plot(epochs, val_acc, \"b\", label=\"Validation acc\")\n",
        "plt.title(\"Training and validation accuracy\")\n",
        "plt.xlabel(\"Epochs\")\n",
        "plt.ylabel(\"Accuracy\")\n",
        "plt.legend()"
      ],
      "metadata": {
        "colab": {
          "base_uri": "https://localhost:8080/",
          "height": 590
        },
        "id": "ekl6kARrHxoe",
        "outputId": "ce333fd3-d86c-467f-c470-6de2c57331ea"
      },
      "execution_count": 46,
      "outputs": [
        {
          "output_type": "display_data",
          "data": {
            "text/plain": [
              "<Figure size 432x288 with 1 Axes>"
            ],
            "image/png": "[encoded data removed]"
          },
          "metadata": {
            "needs_background": "light"
          }
        },
        {
          "output_type": "execute_result",
          "data": {
            "text/plain": [
              "<matplotlib.legend.Legend at 0x7f67d58d7190>"
            ]
          },
          "metadata": {},
          "execution_count": 46
        },
        {
          "output_type": "display_data",
          "data": {
            "text/plain": [
              "<Figure size 432x288 with 1 Axes>"
            ],
            "image/png": "[encoded data removed]"
          },
          "metadata": {
            "needs_background": "light"
          }
        }
      ]
    },
    {
      "cell_type": "markdown",
      "source": [
        "Here, the minimum validation loss is observed in 3rd epoch and maximum validation accuracy is observed in 3rd epoch."
      ],
      "metadata": {
        "id": "Yie4E9adzIP_"
      }
    },
    {
      "cell_type": "code",
      "source": [
        "results"
      ],
      "metadata": {
        "id": "0A8JC21oClHK",
        "colab": {
          "base_uri": "https://localhost:8080/"
        },
        "outputId": "a8e0f564-a1d2-464b-ccc6-2860d080809f"
      },
      "execution_count": 47,
      "outputs": [
        {
          "output_type": "execute_result",
          "data": {
            "text/plain": [
              "[0.2830926477909088, 0.8880400061607361]"
            ]
          },
          "metadata": {},
          "execution_count": 47
        }
      ]
    },
    {
      "cell_type": "markdown",
      "source": [
        "**5. Use any technique we studied in class, and these include regularization, dropout, etc., to get your model to perform better on validation.**"
      ],
      "metadata": {
        "id": "wMJJeNbCIJp3"
      }
    },
    {
      "cell_type": "code",
      "source": [
        "model_5 = keras.Sequential([\n",
        "    layers.Dense(32, activation=\"relu\"),\n",
        "    layers.Dropout(0.2),\n",
        "    layers.Dense(64, activation=\"relu\"),\n",
        "    layers.Dense(1, activation=\"sigmoid\")\n",
        "])"
      ],
      "metadata": {
        "id": "fZQX7GiIIhbK"
      },
      "execution_count": 48,
      "outputs": []
    },
    {
      "cell_type": "code",
      "source": [
        "#using RMSProp and binary cross entropy \n",
        "model_5.compile(optimizer=\"rmsprop\",\n",
        "              loss=\"binary_crossentropy\",\n",
        "              metrics=[\"accuracy\"])"
      ],
      "metadata": {
        "id": "CO2o2cRQI3dy"
      },
      "execution_count": 49,
      "outputs": []
    },
    {
      "cell_type": "code",
      "source": [
        "# Here the fitting of the model is done by taking 20 epochs with batch size of 512.\n",
        "history5 = model_5.fit(partial_x_train,\n",
        "                    partial_y_train,\n",
        "                    epochs=20,\n",
        "                    batch_size=512,\n",
        "                    validation_data=(x_val, y_val))"
      ],
      "metadata": {
        "colab": {
          "base_uri": "https://localhost:8080/"
        },
        "id": "CGm_Wh1NJCgy",
        "outputId": "2dc0ce0a-0feb-4f00-fa9e-340eb0c4b493"
      },
      "execution_count": 50,
      "outputs": [
        {
          "output_type": "stream",
          "name": "stdout",
          "text": [
            "Epoch 1/20\n",
            "30/30 [==============================] - 4s 93ms/step - loss: 0.5249 - accuracy: 0.7601 - val_loss: 0.3637 - val_accuracy: 0.8696\n",
            "Epoch 2/20\n",
            "30/30 [==============================] - 1s 50ms/step - loss: 0.3158 - accuracy: 0.8809 - val_loss: 0.2908 - val_accuracy: 0.8845\n",
            "Epoch 3/20\n",
            "30/30 [==============================] - 1s 48ms/step - loss: 0.2423 - accuracy: 0.9091 - val_loss: 0.2753 - val_accuracy: 0.8879\n",
            "Epoch 4/20\n",
            "30/30 [==============================] - 1s 46ms/step - loss: 0.1929 - accuracy: 0.9302 - val_loss: 0.2826 - val_accuracy: 0.8872\n",
            "Epoch 5/20\n",
            "30/30 [==============================] - 1s 48ms/step - loss: 0.1565 - accuracy: 0.9453 - val_loss: 0.2841 - val_accuracy: 0.8864\n",
            "Epoch 6/20\n",
            "30/30 [==============================] - 2s 60ms/step - loss: 0.1303 - accuracy: 0.9543 - val_loss: 0.2975 - val_accuracy: 0.8867\n",
            "Epoch 7/20\n",
            "30/30 [==============================] - 1s 47ms/step - loss: 0.0976 - accuracy: 0.9697 - val_loss: 0.3239 - val_accuracy: 0.8863\n",
            "Epoch 8/20\n",
            "30/30 [==============================] - 2s 74ms/step - loss: 0.0840 - accuracy: 0.9713 - val_loss: 0.3847 - val_accuracy: 0.8697\n",
            "Epoch 9/20\n",
            "30/30 [==============================] - 2s 64ms/step - loss: 0.0638 - accuracy: 0.9808 - val_loss: 0.4271 - val_accuracy: 0.8671\n",
            "Epoch 10/20\n",
            "30/30 [==============================] - 1s 48ms/step - loss: 0.0541 - accuracy: 0.9809 - val_loss: 0.4352 - val_accuracy: 0.8703\n",
            "Epoch 11/20\n",
            "30/30 [==============================] - 2s 59ms/step - loss: 0.0401 - accuracy: 0.9886 - val_loss: 0.4874 - val_accuracy: 0.8744\n",
            "Epoch 12/20\n",
            "30/30 [==============================] - 1s 48ms/step - loss: 0.0303 - accuracy: 0.9917 - val_loss: 0.4773 - val_accuracy: 0.8786\n",
            "Epoch 13/20\n",
            "30/30 [==============================] - 1s 48ms/step - loss: 0.0217 - accuracy: 0.9939 - val_loss: 0.5212 - val_accuracy: 0.8733\n",
            "Epoch 14/20\n",
            "30/30 [==============================] - 1s 48ms/step - loss: 0.0285 - accuracy: 0.9907 - val_loss: 0.5285 - val_accuracy: 0.8784\n",
            "Epoch 15/20\n",
            "30/30 [==============================] - 1s 50ms/step - loss: 0.0116 - accuracy: 0.9978 - val_loss: 0.5637 - val_accuracy: 0.8781\n",
            "Epoch 16/20\n",
            "30/30 [==============================] - 2s 75ms/step - loss: 0.0203 - accuracy: 0.9937 - val_loss: 0.5805 - val_accuracy: 0.8770\n",
            "Epoch 17/20\n",
            "30/30 [==============================] - 2s 65ms/step - loss: 0.0060 - accuracy: 0.9994 - val_loss: 0.7630 - val_accuracy: 0.8536\n",
            "Epoch 18/20\n",
            "30/30 [==============================] - 1s 48ms/step - loss: 0.0214 - accuracy: 0.9939 - val_loss: 0.6420 - val_accuracy: 0.8745\n",
            "Epoch 19/20\n",
            "30/30 [==============================] - 1s 49ms/step - loss: 0.0147 - accuracy: 0.9953 - val_loss: 0.6130 - val_accuracy: 0.8735\n",
            "Epoch 20/20\n",
            "30/30 [==============================] - 1s 49ms/step - loss: 0.0044 - accuracy: 0.9995 - val_loss: 0.6842 - val_accuracy: 0.8738\n"
          ]
        }
      ]
    },
    {
      "cell_type": "code",
      "source": [
        "historyp5 = history5.history\n",
        "loss_values = historyp5[\"loss\"]\n",
        "val_loss_values = historyp5[\"val_loss\"]        #plotting the losses\n",
        "epochs = range(1, len(loss_values) + 1)\n",
        "plt.plot(epochs, loss_values, \"bo\", label=\"Training loss\")\n",
        "plt.plot(epochs, val_loss_values, \"b\", label=\"Validation loss\")\n",
        "plt.title(\"Training and validation loss\")\n",
        "plt.xlabel(\"Epochs\")\n",
        "plt.ylabel(\"Loss\")\n",
        "plt.legend()\n",
        "plt.show()\n",
        "\n",
        "plt.clf()\n",
        "acc = historyp5[\"accuracy\"]    \n",
        "val_acc = historyp5[\"val_accuracy\"]            #plotting the accuracy plots\n",
        "plt.plot(epochs, acc, \"bo\", label=\"Training acc\")\n",
        "plt.plot(epochs, val_acc, \"b\", label=\"Validation acc\")\n",
        "plt.title(\"Training and validation accuracy\")\n",
        "plt.xlabel(\"Epochs\")\n",
        "plt.ylabel(\"Accuracy\")\n",
        "plt.legend()\n",
        "plt.show()"
      ],
      "metadata": {
        "colab": {
          "base_uri": "https://localhost:8080/",
          "height": 573
        },
        "id": "OLuwSeG8JnSC",
        "outputId": "f0af1cdf-07bd-4449-cbec-4326282ff72f"
      },
      "execution_count": 51,
      "outputs": [
        {
          "output_type": "display_data",
          "data": {
            "text/plain": [
              "<Figure size 432x288 with 1 Axes>"
            ],
            "image/png": "[encoded data removed]"
          },
          "metadata": {
            "needs_background": "light"
          }
        },
        {
          "output_type": "display_data",
          "data": {
            "text/plain": [
              "<Figure size 432x288 with 1 Axes>"
            ],
            "image/png": "[encoded data removed]"
          },
          "metadata": {
            "needs_background": "light"
          }
        }
      ]
    },
    {
      "cell_type": "markdown",
      "source": [
        "Here, the minimum validation loss is observed in 3rd epoch and maximum validation accuracy is observed in 3rd epoch."
      ],
      "metadata": {
        "id": "L5CFSpXmzhXE"
      }
    },
    {
      "cell_type": "code",
      "source": [
        "results"
      ],
      "metadata": {
        "id": "Dtz9X2FyJ32J",
        "colab": {
          "base_uri": "https://localhost:8080/"
        },
        "outputId": "55cd18c7-25eb-4e3a-b919-94184355393d"
      },
      "execution_count": 52,
      "outputs": [
        {
          "output_type": "execute_result",
          "data": {
            "text/plain": [
              "[0.2830926477909088, 0.8880400061607361]"
            ]
          },
          "metadata": {},
          "execution_count": 52
        }
      ]
    }
  ]
}